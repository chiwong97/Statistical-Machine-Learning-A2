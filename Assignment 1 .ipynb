{
 "cells": [
  {
   "cell_type": "code",
   "execution_count": null,
   "id": "ef3b1d9f",
   "metadata": {},
   "outputs": [],
   "source": [
    "# Question 1"
   ]
  },
  {
   "cell_type": "code",
   "execution_count": 10,
   "id": "0ab0ffd1",
   "metadata": {},
   "outputs": [],
   "source": [
    "def power(base,power,mod):\n",
    "    result = 1\n",
    "    while power > 0: \n",
    "        if power % 2 == 1:\n",
    "            result = (result * base) % mod\n",
    "        power = power // 2\n",
    "        base = (base * base) % mod\n",
    "    return result"
   ]
  },
  {
   "cell_type": "code",
   "execution_count": 12,
   "id": "3e0e7439",
   "metadata": {},
   "outputs": [],
   "source": [
    "def sign(M,n,d):\n",
    "    signature = power(M,d,n)\n",
    "    return signature"
   ]
  },
  {
   "cell_type": "code",
   "execution_count": 3,
   "id": "7b37d5a5",
   "metadata": {},
   "outputs": [],
   "source": [
    "def verify(S,n,e,M):\n",
    "    M_1 = power(S,e,n)\n",
    "    if M_1 == M:\n",
    "        return True\n",
    "    return False"
   ]
  },
  {
   "cell_type": "code",
   "execution_count": 4,
   "id": "f37fdcb0",
   "metadata": {},
   "outputs": [],
   "source": [
    "def blindsign(x,n,M,e,d):\n",
    "    M_b = ((x**e)*M)%n\n",
    "    s_b = (M_b**d)%n\n",
    "    s = (s_b/x)%n\n",
    "    return s"
   ]
  },
  {
   "cell_type": "code",
   "execution_count": 14,
   "id": "a42c8e48",
   "metadata": {},
   "outputs": [],
   "source": [
    "def blindsign(x,n,M,e,d):\n",
    "    M_b = (power(x,e,n)*M)%n\n",
    "    s_b = power(M_b,d,n)\n",
    "    s = (s_b/x)%n\n",
    "    return s"
   ]
  },
  {
   "cell_type": "code",
   "execution_count": 1,
   "id": "7817c8f5",
   "metadata": {},
   "outputs": [],
   "source": [
    "M = 3141592653687293\n",
    "n = 1139631134290681913324518075250462509444792614577115360833700594253534083115108212461164873379591734542309312064780949257819665132832661342154198437454459926525649486600336464897081397167045104842672493488133506984881500857942197501\n",
    "e = 65537\n",
    "d = 207295768068102279456514335033046425303132165927244033393328116698908705079805377126654354876758366533086185042407386444469697300448993171079415022477995849594447981729168914639729964957529446229650186590220990592254700038562058305"
   ]
  },
  {
   "cell_type": "code",
   "execution_count": 13,
   "id": "ec142e58",
   "metadata": {},
   "outputs": [
    {
     "data": {
      "text/plain": [
       "5420149828491693320052198683692604909798995271519715805011817746013133771009291045565465104329883986624698134484163766601997146517751044693103053408663963585297816962596031174975927103460465677745172574130426851541188310000244166"
      ]
     },
     "execution_count": 13,
     "metadata": {},
     "output_type": "execute_result"
    }
   ],
   "source": [
    "sign(M,n,d)"
   ]
  },
  {
   "cell_type": "code",
   "execution_count": 15,
   "id": "f4896ec0",
   "metadata": {},
   "outputs": [],
   "source": [
    "x = 6872"
   ]
  },
  {
   "cell_type": "code",
   "execution_count": 18,
   "id": "0c61b5db",
   "metadata": {},
   "outputs": [
    {
     "data": {
      "text/plain": [
       "1.1336922643962388e+227"
      ]
     },
     "execution_count": 18,
     "metadata": {},
     "output_type": "execute_result"
    }
   ],
   "source": [
    "blindsign(x,n,M,e,d)"
   ]
  },
  {
   "cell_type": "code",
   "execution_count": 17,
   "id": "f45a1881",
   "metadata": {},
   "outputs": [],
   "source": [
    "a = blindsign(x,n,M,e,d)"
   ]
  },
  {
   "cell_type": "code",
   "execution_count": 26,
   "id": "1da82485",
   "metadata": {},
   "outputs": [
    {
     "name": "stdout",
     "output_type": "stream",
     "text": [
      "113369226439623876134770215651761851186768559754878264850904455285747573985687952080622736368282688894283482025559280217141929695863109886024401924726393873986358780905578460554412863546441327980317647022070101231296979685867520.000000\n"
     ]
    }
   ],
   "source": [
    "output = '{:f}'.format(a)\n",
    "print(output)"
   ]
  }
 ],
 "metadata": {
  "kernelspec": {
   "display_name": "Python 3",
   "language": "python",
   "name": "python3"
  },
  "language_info": {
   "codemirror_mode": {
    "name": "ipython",
    "version": 3
   },
   "file_extension": ".py",
   "mimetype": "text/x-python",
   "name": "python",
   "nbconvert_exporter": "python",
   "pygments_lexer": "ipython3",
   "version": "3.8.8"
  }
 },
 "nbformat": 4,
 "nbformat_minor": 5
}
